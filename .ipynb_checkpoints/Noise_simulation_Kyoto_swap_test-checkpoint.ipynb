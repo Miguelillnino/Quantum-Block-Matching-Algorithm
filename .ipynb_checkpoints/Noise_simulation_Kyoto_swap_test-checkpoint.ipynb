{
 "cells": [
  {
   "cell_type": "code",
   "execution_count": 8,
   "id": "3f405b50",
   "metadata": {},
   "outputs": [
    {
     "ename": "ImportError",
     "evalue": "cannot import name 'ControlFlowOp' from 'qiskit.circuit' (/home/miguel/anaconda3/lib/python3.8/site-packages/qiskit/circuit/__init__.py)",
     "output_type": "error",
     "traceback": [
      "\u001b[0;31m---------------------------------------------------------------------------\u001b[0m",
      "\u001b[0;31mImportError\u001b[0m                               Traceback (most recent call last)",
      "Cell \u001b[0;32mIn[8], line 7\u001b[0m\n\u001b[1;32m      5\u001b[0m \u001b[38;5;28;01mimport\u001b[39;00m \u001b[38;5;21;01mnumpy\u001b[39;00m \u001b[38;5;28;01mas\u001b[39;00m \u001b[38;5;21;01mnp\u001b[39;00m\n\u001b[1;32m      6\u001b[0m \u001b[38;5;28;01mimport\u001b[39;00m \u001b[38;5;21;01mmatplotlib\u001b[39;00m\u001b[38;5;21;01m.\u001b[39;00m\u001b[38;5;21;01mpyplot\u001b[39;00m \u001b[38;5;28;01mas\u001b[39;00m \u001b[38;5;21;01mplt\u001b[39;00m\n\u001b[0;32m----> 7\u001b[0m \u001b[38;5;28;01mfrom\u001b[39;00m \u001b[38;5;21;01mqiskit_ibm_runtime\u001b[39;00m \u001b[38;5;28;01mimport\u001b[39;00m QiskitRuntimeService\n",
      "File \u001b[0;32m~/anaconda3/lib/python3.8/site-packages/qiskit_ibm_runtime/__init__.py:165\u001b[0m\n\u001b[1;32m     13\u001b[0m \u001b[38;5;124;03m\"\"\"\u001b[39;00m\n\u001b[1;32m     14\u001b[0m \u001b[38;5;124;03m==========================================\u001b[39;00m\n\u001b[1;32m     15\u001b[0m \u001b[38;5;124;03mQiskit Runtime (:mod:`qiskit_ibm_runtime`)\u001b[39;00m\n\u001b[0;32m   (...)\u001b[0m\n\u001b[1;32m    160\u001b[0m \u001b[38;5;124;03m   RuntimeDecoder\u001b[39;00m\n\u001b[1;32m    161\u001b[0m \u001b[38;5;124;03m\"\"\"\u001b[39;00m\n\u001b[1;32m    163\u001b[0m \u001b[38;5;28;01mimport\u001b[39;00m \u001b[38;5;21;01mlogging\u001b[39;00m\n\u001b[0;32m--> 165\u001b[0m \u001b[38;5;28;01mfrom\u001b[39;00m \u001b[38;5;21;01m.\u001b[39;00m\u001b[38;5;21;01mqiskit_runtime_service\u001b[39;00m \u001b[38;5;28;01mimport\u001b[39;00m QiskitRuntimeService\n\u001b[1;32m    166\u001b[0m \u001b[38;5;28;01mfrom\u001b[39;00m \u001b[38;5;21;01m.\u001b[39;00m\u001b[38;5;21;01mibm_backend\u001b[39;00m \u001b[38;5;28;01mimport\u001b[39;00m IBMBackend\n\u001b[1;32m    167\u001b[0m \u001b[38;5;28;01mfrom\u001b[39;00m \u001b[38;5;21;01m.\u001b[39;00m\u001b[38;5;21;01mruntime_job\u001b[39;00m \u001b[38;5;28;01mimport\u001b[39;00m RuntimeJob\n",
      "File \u001b[0;32m~/anaconda3/lib/python3.8/site-packages/qiskit_ibm_runtime/qiskit_runtime_service.py:33\u001b[0m\n\u001b[1;32m     27\u001b[0m \u001b[38;5;28;01mfrom\u001b[39;00m \u001b[38;5;21;01mqiskit\u001b[39;00m\u001b[38;5;21;01m.\u001b[39;00m\u001b[38;5;21;01mproviders\u001b[39;00m\u001b[38;5;21;01m.\u001b[39;00m\u001b[38;5;21;01mmodels\u001b[39;00m \u001b[38;5;28;01mimport\u001b[39;00m (\n\u001b[1;32m     28\u001b[0m     PulseBackendConfiguration,\n\u001b[1;32m     29\u001b[0m     QasmBackendConfiguration,\n\u001b[1;32m     30\u001b[0m )\n\u001b[1;32m     32\u001b[0m \u001b[38;5;28;01mfrom\u001b[39;00m \u001b[38;5;21;01mqiskit_ibm_provider\u001b[39;00m\u001b[38;5;21;01m.\u001b[39;00m\u001b[38;5;21;01mproxies\u001b[39;00m \u001b[38;5;28;01mimport\u001b[39;00m ProxyConfiguration\n\u001b[0;32m---> 33\u001b[0m \u001b[38;5;28;01mfrom\u001b[39;00m \u001b[38;5;21;01mqiskit_ibm_provider\u001b[39;00m\u001b[38;5;21;01m.\u001b[39;00m\u001b[38;5;21;01mutils\u001b[39;00m\u001b[38;5;21;01m.\u001b[39;00m\u001b[38;5;21;01mhgp\u001b[39;00m \u001b[38;5;28;01mimport\u001b[39;00m to_instance_format, from_instance_format\n\u001b[1;32m     34\u001b[0m \u001b[38;5;28;01mfrom\u001b[39;00m \u001b[38;5;21;01mqiskit_ibm_provider\u001b[39;00m\u001b[38;5;21;01m.\u001b[39;00m\u001b[38;5;21;01mutils\u001b[39;00m\u001b[38;5;21;01m.\u001b[39;00m\u001b[38;5;21;01mbackend_decoder\u001b[39;00m \u001b[38;5;28;01mimport\u001b[39;00m configuration_from_server_data\n\u001b[1;32m     35\u001b[0m \u001b[38;5;28;01mfrom\u001b[39;00m \u001b[38;5;21;01mqiskit_ibm_runtime\u001b[39;00m \u001b[38;5;28;01mimport\u001b[39;00m ibm_backend\n",
      "File \u001b[0;32m~/anaconda3/lib/python3.8/site-packages/qiskit_ibm_provider/__init__.py:82\u001b[0m\n\u001b[1;32m     78\u001b[0m \u001b[38;5;28;01mfrom\u001b[39;00m \u001b[38;5;21;01mdatetime\u001b[39;00m \u001b[38;5;28;01mimport\u001b[39;00m datetime, timedelta\n\u001b[1;32m     80\u001b[0m \u001b[38;5;28;01mfrom\u001b[39;00m \u001b[38;5;21;01mqiskit\u001b[39;00m\u001b[38;5;21;01m.\u001b[39;00m\u001b[38;5;21;01mproviders\u001b[39;00m \u001b[38;5;28;01mimport\u001b[39;00m Backend  \u001b[38;5;66;03m# type: ignore[attr-defined]\u001b[39;00m\n\u001b[0;32m---> 82\u001b[0m \u001b[38;5;28;01mfrom\u001b[39;00m \u001b[38;5;21;01m.\u001b[39;00m\u001b[38;5;21;01mibm_provider\u001b[39;00m \u001b[38;5;28;01mimport\u001b[39;00m IBMProvider\n\u001b[1;32m     83\u001b[0m \u001b[38;5;28;01mfrom\u001b[39;00m \u001b[38;5;21;01m.\u001b[39;00m\u001b[38;5;21;01mibm_backend\u001b[39;00m \u001b[38;5;28;01mimport\u001b[39;00m IBMBackend\n\u001b[1;32m     84\u001b[0m \u001b[38;5;28;01mfrom\u001b[39;00m \u001b[38;5;21;01m.\u001b[39;00m\u001b[38;5;21;01msession\u001b[39;00m \u001b[38;5;28;01mimport\u001b[39;00m Session\n",
      "File \u001b[0;32m~/anaconda3/lib/python3.8/site-packages/qiskit_ibm_provider/ibm_provider.py:27\u001b[0m\n\u001b[1;32m     24\u001b[0m \u001b[38;5;28;01mfrom\u001b[39;00m \u001b[38;5;21;01mqiskit\u001b[39;00m\u001b[38;5;21;01m.\u001b[39;00m\u001b[38;5;21;01mproviders\u001b[39;00m\u001b[38;5;21;01m.\u001b[39;00m\u001b[38;5;21;01mbackend\u001b[39;00m \u001b[38;5;28;01mimport\u001b[39;00m BackendV1 \u001b[38;5;28;01mas\u001b[39;00m Backend\n\u001b[1;32m     25\u001b[0m \u001b[38;5;28;01mfrom\u001b[39;00m \u001b[38;5;21;01mqiskit\u001b[39;00m\u001b[38;5;21;01m.\u001b[39;00m\u001b[38;5;21;01mproviders\u001b[39;00m\u001b[38;5;21;01m.\u001b[39;00m\u001b[38;5;21;01mexceptions\u001b[39;00m \u001b[38;5;28;01mimport\u001b[39;00m QiskitBackendNotFoundError\n\u001b[0;32m---> 27\u001b[0m \u001b[38;5;28;01mfrom\u001b[39;00m \u001b[38;5;21;01m.\u001b[39;00m\u001b[38;5;21;01maccounts\u001b[39;00m \u001b[38;5;28;01mimport\u001b[39;00m AccountManager, Account\n\u001b[1;32m     28\u001b[0m \u001b[38;5;28;01mfrom\u001b[39;00m \u001b[38;5;21;01m.\u001b[39;00m\u001b[38;5;21;01mapi\u001b[39;00m\u001b[38;5;21;01m.\u001b[39;00m\u001b[38;5;21;01mclient_parameters\u001b[39;00m \u001b[38;5;28;01mimport\u001b[39;00m ClientParameters\n\u001b[1;32m     29\u001b[0m \u001b[38;5;28;01mfrom\u001b[39;00m \u001b[38;5;21;01m.\u001b[39;00m\u001b[38;5;21;01mapi\u001b[39;00m\u001b[38;5;21;01m.\u001b[39;00m\u001b[38;5;21;01mclients\u001b[39;00m \u001b[38;5;28;01mimport\u001b[39;00m AuthClient, VersionClient, RuntimeClient\n",
      "File \u001b[0;32m~/anaconda3/lib/python3.8/site-packages/qiskit_ibm_provider/accounts/__init__.py:17\u001b[0m\n\u001b[1;32m      1\u001b[0m \u001b[38;5;66;03m# This code is part of Qiskit.\u001b[39;00m\n\u001b[1;32m      2\u001b[0m \u001b[38;5;66;03m#\u001b[39;00m\n\u001b[1;32m      3\u001b[0m \u001b[38;5;66;03m# (C) Copyright IBM 2021.\u001b[39;00m\n\u001b[0;32m   (...)\u001b[0m\n\u001b[1;32m     10\u001b[0m \u001b[38;5;66;03m# copyright notice, and modified files need to carry a notice indicating\u001b[39;00m\n\u001b[1;32m     11\u001b[0m \u001b[38;5;66;03m# that they have been altered from the originals.\u001b[39;00m\n\u001b[1;32m     13\u001b[0m \u001b[38;5;124;03m\"\"\"\u001b[39;00m\n\u001b[1;32m     14\u001b[0m \u001b[38;5;124;03mAccount management functionality.\u001b[39;00m\n\u001b[1;32m     15\u001b[0m \u001b[38;5;124;03m\"\"\"\u001b[39;00m\n\u001b[0;32m---> 17\u001b[0m \u001b[38;5;28;01mfrom\u001b[39;00m \u001b[38;5;21;01m.\u001b[39;00m\u001b[38;5;21;01maccount\u001b[39;00m \u001b[38;5;28;01mimport\u001b[39;00m Account, ChannelType\n\u001b[1;32m     18\u001b[0m \u001b[38;5;28;01mfrom\u001b[39;00m \u001b[38;5;21;01m.\u001b[39;00m\u001b[38;5;21;01mmanagement\u001b[39;00m \u001b[38;5;28;01mimport\u001b[39;00m AccountManager\n\u001b[1;32m     19\u001b[0m \u001b[38;5;28;01mfrom\u001b[39;00m \u001b[38;5;21;01m.\u001b[39;00m\u001b[38;5;21;01mexceptions\u001b[39;00m \u001b[38;5;28;01mimport\u001b[39;00m (\n\u001b[1;32m     20\u001b[0m     AccountNotFoundError,\n\u001b[1;32m     21\u001b[0m     AccountAlreadyExistsError,\n\u001b[1;32m     22\u001b[0m     InvalidAccountError,\n\u001b[1;32m     23\u001b[0m )\n",
      "File \u001b[0;32m~/anaconda3/lib/python3.8/site-packages/qiskit_ibm_provider/accounts/account.py:25\u001b[0m\n\u001b[1;32m     23\u001b[0m \u001b[38;5;28;01mfrom\u001b[39;00m \u001b[38;5;21;01m.\u001b[39;00m\u001b[38;5;21;01m.\u001b[39;00m\u001b[38;5;21;01mapi\u001b[39;00m\u001b[38;5;21;01m.\u001b[39;00m\u001b[38;5;21;01mauth\u001b[39;00m \u001b[38;5;28;01mimport\u001b[39;00m QuantumAuth\n\u001b[1;32m     24\u001b[0m \u001b[38;5;28;01mfrom\u001b[39;00m \u001b[38;5;21;01m.\u001b[39;00m\u001b[38;5;21;01m.\u001b[39;00m\u001b[38;5;21;01mproxies\u001b[39;00m \u001b[38;5;28;01mimport\u001b[39;00m ProxyConfiguration\n\u001b[0;32m---> 25\u001b[0m \u001b[38;5;28;01mfrom\u001b[39;00m \u001b[38;5;21;01m.\u001b[39;00m\u001b[38;5;21;01m.\u001b[39;00m\u001b[38;5;21;01mutils\u001b[39;00m\u001b[38;5;21;01m.\u001b[39;00m\u001b[38;5;21;01mhgp\u001b[39;00m \u001b[38;5;28;01mimport\u001b[39;00m from_instance_format\n\u001b[1;32m     27\u001b[0m ChannelType \u001b[38;5;241m=\u001b[39m Optional[Literal[\u001b[38;5;124m\"\u001b[39m\u001b[38;5;124mibm_quantum\u001b[39m\u001b[38;5;124m\"\u001b[39m]]\n\u001b[1;32m     29\u001b[0m IBM_QUANTUM_API_URL \u001b[38;5;241m=\u001b[39m \u001b[38;5;124m\"\u001b[39m\u001b[38;5;124mhttps://auth.quantum-computing.ibm.com/api\u001b[39m\u001b[38;5;124m\"\u001b[39m\n",
      "File \u001b[0;32m~/anaconda3/lib/python3.8/site-packages/qiskit_ibm_provider/utils/__init__.py:46\u001b[0m\n\u001b[1;32m     13\u001b[0m \u001b[38;5;124;03m\"\"\"\u001b[39;00m\n\u001b[1;32m     14\u001b[0m \u001b[38;5;124;03m==============================================================================\u001b[39;00m\n\u001b[1;32m     15\u001b[0m \u001b[38;5;124;03mUtilities (:mod:`qiskit_ibm_provider.utils`)\u001b[39;00m\n\u001b[0;32m   (...)\u001b[0m\n\u001b[1;32m     37\u001b[0m \n\u001b[1;32m     38\u001b[0m \u001b[38;5;124;03m\"\"\"\u001b[39;00m\n\u001b[1;32m     40\u001b[0m \u001b[38;5;28;01mfrom\u001b[39;00m \u001b[38;5;21;01m.\u001b[39;00m\u001b[38;5;21;01mconverters\u001b[39;00m \u001b[38;5;28;01mimport\u001b[39;00m (\n\u001b[1;32m     41\u001b[0m     utc_to_local,\n\u001b[1;32m     42\u001b[0m     local_to_utc,\n\u001b[1;32m     43\u001b[0m     seconds_to_duration,\n\u001b[1;32m     44\u001b[0m     duration_difference,\n\u001b[1;32m     45\u001b[0m )\n\u001b[0;32m---> 46\u001b[0m \u001b[38;5;28;01mfrom\u001b[39;00m \u001b[38;5;21;01m.\u001b[39;00m\u001b[38;5;21;01mutils\u001b[39;00m \u001b[38;5;28;01mimport\u001b[39;00m to_python_identifier, validate_job_tags, are_circuits_dynamic\n\u001b[1;32m     47\u001b[0m \u001b[38;5;28;01mfrom\u001b[39;00m \u001b[38;5;21;01m.\u001b[39;00m\u001b[38;5;21;01mjson\u001b[39;00m \u001b[38;5;28;01mimport\u001b[39;00m RuntimeEncoder, RuntimeDecoder\n",
      "File \u001b[0;32m~/anaconda3/lib/python3.8/site-packages/qiskit_ibm_provider/utils/utils.py:24\u001b[0m\n\u001b[1;32m     21\u001b[0m \u001b[38;5;28;01mfrom\u001b[39;00m \u001b[38;5;21;01mthreading\u001b[39;00m \u001b[38;5;28;01mimport\u001b[39;00m Condition\n\u001b[1;32m     22\u001b[0m \u001b[38;5;28;01mfrom\u001b[39;00m \u001b[38;5;21;01mtyping\u001b[39;00m \u001b[38;5;28;01mimport\u001b[39;00m List, Optional, Type, Any, Dict, Union, Tuple\n\u001b[0;32m---> 24\u001b[0m \u001b[38;5;28;01mfrom\u001b[39;00m \u001b[38;5;21;01mqiskit\u001b[39;00m\u001b[38;5;21;01m.\u001b[39;00m\u001b[38;5;21;01mcircuit\u001b[39;00m \u001b[38;5;28;01mimport\u001b[39;00m QuantumCircuit, ControlFlowOp\n\u001b[1;32m     25\u001b[0m \u001b[38;5;28;01mfrom\u001b[39;00m \u001b[38;5;21;01mqiskit\u001b[39;00m\u001b[38;5;21;01m.\u001b[39;00m\u001b[38;5;21;01mproviders\u001b[39;00m\u001b[38;5;21;01m.\u001b[39;00m\u001b[38;5;21;01mjobstatus\u001b[39;00m \u001b[38;5;28;01mimport\u001b[39;00m JobStatus\n\u001b[1;32m     27\u001b[0m \u001b[38;5;28;01mfrom\u001b[39;00m \u001b[38;5;21;01m.\u001b[39;00m\u001b[38;5;21;01m.\u001b[39;00m\u001b[38;5;21;01mapiconstants\u001b[39;00m \u001b[38;5;28;01mimport\u001b[39;00m ApiJobStatus\n",
      "\u001b[0;31mImportError\u001b[0m: cannot import name 'ControlFlowOp' from 'qiskit.circuit' (/home/miguel/anaconda3/lib/python3.8/site-packages/qiskit/circuit/__init__.py)"
     ]
    }
   ],
   "source": [
    "#Import the necessary libraries\n",
    "from qiskit import *\n",
    "from qiskit import BasicAer\n",
    "from qiskit import QuantumCircuit, ClassicalRegister, QuantumRegister\n",
    "import numpy as np\n",
    "import matplotlib.pyplot as plt\n",
    "from qiskit_ibm_runtime import QiskitRuntimeService"
   ]
  },
  {
   "cell_type": "code",
   "execution_count": 7,
   "id": "c161228e",
   "metadata": {},
   "outputs": [
    {
     "name": "stdout",
     "output_type": "stream",
     "text": [
      "Requirement already satisfied: qiskit_ibm_runtime in /home/miguel/anaconda3/lib/python3.8/site-packages (0.17.0)\n",
      "Requirement already satisfied: qiskit>=0.44.1 in /home/miguel/anaconda3/lib/python3.8/site-packages (from qiskit_ibm_runtime) (0.45.2)\n",
      "Requirement already satisfied: requests>=2.19 in /home/miguel/anaconda3/lib/python3.8/site-packages (from qiskit_ibm_runtime) (2.31.0)\n",
      "Requirement already satisfied: requests-ntlm>=1.1.0 in /home/miguel/anaconda3/lib/python3.8/site-packages (from qiskit_ibm_runtime) (1.1.0)\n",
      "Requirement already satisfied: numpy>=1.13 in /home/miguel/anaconda3/lib/python3.8/site-packages (from qiskit_ibm_runtime) (1.24.3)\n",
      "Requirement already satisfied: urllib3>=1.21.1 in /home/miguel/anaconda3/lib/python3.8/site-packages (from qiskit_ibm_runtime) (2.1.0)\n",
      "Requirement already satisfied: python-dateutil>=2.8.0 in /home/miguel/anaconda3/lib/python3.8/site-packages (from qiskit_ibm_runtime) (2.8.2)\n",
      "Requirement already satisfied: websocket-client>=1.5.1 in /home/miguel/anaconda3/lib/python3.8/site-packages (from qiskit_ibm_runtime) (1.6.3)\n",
      "Requirement already satisfied: ibm-platform-services>=0.22.6 in /home/miguel/anaconda3/lib/python3.8/site-packages (from qiskit_ibm_runtime) (0.49.0)\n",
      "Requirement already satisfied: qiskit-ibm-provider>=0.7.2 in /home/miguel/anaconda3/lib/python3.8/site-packages (from qiskit_ibm_runtime) (0.8.0)\n",
      "Requirement already satisfied: ibm-cloud-sdk-core<4.0.0,>=3.18.2 in /home/miguel/anaconda3/lib/python3.8/site-packages (from ibm-platform-services>=0.22.6->qiskit_ibm_runtime) (3.19.1)\n",
      "Requirement already satisfied: six>=1.5 in /home/miguel/anaconda3/lib/python3.8/site-packages (from python-dateutil>=2.8.0->qiskit_ibm_runtime) (1.16.0)\n",
      "Requirement already satisfied: qiskit-terra==0.45.2 in /home/miguel/anaconda3/lib/python3.8/site-packages (from qiskit>=0.44.1->qiskit_ibm_runtime) (0.45.2)\n",
      "Requirement already satisfied: rustworkx>=0.13.0 in /home/miguel/anaconda3/lib/python3.8/site-packages (from qiskit-terra==0.45.2->qiskit>=0.44.1->qiskit_ibm_runtime) (0.13.1)\n",
      "Requirement already satisfied: ply>=3.10 in /home/miguel/anaconda3/lib/python3.8/site-packages (from qiskit-terra==0.45.2->qiskit>=0.44.1->qiskit_ibm_runtime) (3.11)\n",
      "Requirement already satisfied: psutil>=5 in /home/miguel/anaconda3/lib/python3.8/site-packages (from qiskit-terra==0.45.2->qiskit>=0.44.1->qiskit_ibm_runtime) (5.9.0)\n",
      "Requirement already satisfied: scipy>=1.5 in /home/miguel/anaconda3/lib/python3.8/site-packages (from qiskit-terra==0.45.2->qiskit>=0.44.1->qiskit_ibm_runtime) (1.10.1)\n",
      "Requirement already satisfied: sympy>=1.3 in /home/miguel/anaconda3/lib/python3.8/site-packages (from qiskit-terra==0.45.2->qiskit>=0.44.1->qiskit_ibm_runtime) (1.11.1)\n",
      "Requirement already satisfied: dill>=0.3 in /home/miguel/anaconda3/lib/python3.8/site-packages (from qiskit-terra==0.45.2->qiskit>=0.44.1->qiskit_ibm_runtime) (0.3.3)\n",
      "Requirement already satisfied: stevedore>=3.0.0 in /home/miguel/anaconda3/lib/python3.8/site-packages (from qiskit-terra==0.45.2->qiskit>=0.44.1->qiskit_ibm_runtime) (4.1.1)\n",
      "Requirement already satisfied: symengine!=0.10.0,>=0.9 in /home/miguel/anaconda3/lib/python3.8/site-packages (from qiskit-terra==0.45.2->qiskit>=0.44.1->qiskit_ibm_runtime) (0.9.2)\n",
      "Requirement already satisfied: typing-extensions in /home/miguel/anaconda3/lib/python3.8/site-packages (from qiskit-terra==0.45.2->qiskit>=0.44.1->qiskit_ibm_runtime) (4.7.1)\n",
      "Requirement already satisfied: websockets>=10.0 in /home/miguel/anaconda3/lib/python3.8/site-packages (from qiskit-ibm-provider>=0.7.2->qiskit_ibm_runtime) (10.4)\n",
      "Requirement already satisfied: charset-normalizer<4,>=2 in /home/miguel/anaconda3/lib/python3.8/site-packages (from requests>=2.19->qiskit_ibm_runtime) (2.0.4)\n",
      "Requirement already satisfied: idna<4,>=2.5 in /home/miguel/anaconda3/lib/python3.8/site-packages (from requests>=2.19->qiskit_ibm_runtime) (3.4)\n",
      "Requirement already satisfied: certifi>=2017.4.17 in /home/miguel/anaconda3/lib/python3.8/site-packages (from requests>=2.19->qiskit_ibm_runtime) (2022.12.7)\n",
      "Requirement already satisfied: ntlm-auth>=1.0.2 in /home/miguel/anaconda3/lib/python3.8/site-packages (from requests-ntlm>=1.1.0->qiskit_ibm_runtime) (1.5.0)\n",
      "Requirement already satisfied: cryptography>=1.3 in /home/miguel/anaconda3/lib/python3.8/site-packages (from requests-ntlm>=1.1.0->qiskit_ibm_runtime) (41.0.2)\n",
      "Requirement already satisfied: cffi>=1.12 in /home/miguel/anaconda3/lib/python3.8/site-packages (from cryptography>=1.3->requests-ntlm>=1.1.0->qiskit_ibm_runtime) (1.15.1)\n",
      "Requirement already satisfied: PyJWT<3.0.0,>=2.8.0 in /home/miguel/anaconda3/lib/python3.8/site-packages (from ibm-cloud-sdk-core<4.0.0,>=3.18.2->ibm-platform-services>=0.22.6->qiskit_ibm_runtime) (2.8.0)\n",
      "Requirement already satisfied: pycparser in /home/miguel/anaconda3/lib/python3.8/site-packages (from cffi>=1.12->cryptography>=1.3->requests-ntlm>=1.1.0->qiskit_ibm_runtime) (2.21)\n",
      "Requirement already satisfied: pbr!=2.1.0,>=2.0.0 in /home/miguel/anaconda3/lib/python3.8/site-packages (from stevedore>=3.0.0->qiskit-terra==0.45.2->qiskit>=0.44.1->qiskit_ibm_runtime) (5.11.1)\n",
      "Requirement already satisfied: mpmath>=0.19 in /home/miguel/anaconda3/lib/python3.8/site-packages (from sympy>=1.3->qiskit-terra==0.45.2->qiskit>=0.44.1->qiskit_ibm_runtime) (1.3.0)\n"
     ]
    }
   ],
   "source": [
    "!pip install qiskit_ibm_runtime"
   ]
  },
  {
   "cell_type": "code",
   "execution_count": 2,
   "id": "d7d9d789",
   "metadata": {},
   "outputs": [
    {
     "name": "stderr",
     "output_type": "stream",
     "text": [
      "configrc.store_credentials:WARNING:2024-01-24 13:29:02,662: Credentials already present. Set overwrite=True to overwrite.\n"
     ]
    }
   ],
   "source": [
    "IBMQ.save_account('0c36130e3a676af024477eca7ea46d063669eb787b4456993a3b1e22c830d1294d0cc8de85a5f8b5778a6f43c3ec484cac81ec12bddc158b79e95002009efa3e') "
   ]
  },
  {
   "cell_type": "code",
   "execution_count": 3,
   "id": "6fc157fb",
   "metadata": {},
   "outputs": [],
   "source": [
    "# Vectors used to compute the distance \n",
    "\n",
    "vectors= [[[10,6,4,8], [10,6,4,7]],\n",
    "          [[10,6,4,8], [9,6,4,9] ],\n",
    "          [[10,6,4,8], [9,6,5,7] ],\n",
    "          [[10,6,4,8], [8,6,4,6] ],\n",
    "          [[10,6,4,8], [7,6,5,6] ],\n",
    "          [[10,6,4,8], [7,5,8,6] ],\n",
    "          [[10,6,4,8], [5,5,8,6] ],\n",
    "          [[10,6,4,8], [2,5,12,5]],\n",
    "          [[12,6,4,8], [2,10,14,5]],\n",
    "          [[12,18,2,16],[2,7,12,5]],\n",
    "          [[14,18,2,16],[2,5,12,5]],\n",
    "          [[16,20,2,17],[4,7,12,1]],\n",
    "          [[16,20,2,18],[4,5,12,1]],\n",
    "          [[16,20,2,17],[2,4,15,1]],\n",
    "          [[18,24,2,19],[5,6,18,1]],\n",
    "          [[18,24,2,19],[5,6,21,1]],\n",
    "          [[18,24,2,19],[2,3,21,1]],\n",
    "         ]\n",
    "\n",
    "vectors_array = np.array(vectors)"
   ]
  },
  {
   "cell_type": "code",
   "execution_count": 4,
   "id": "05bb39dd",
   "metadata": {},
   "outputs": [],
   "source": [
    "real_distance_list = []\n",
    "quantum_distance_list = []\n",
    "shots = 4000\n",
    "iteration = 0\n",
    "runs = 20\n",
    "qc_list = []"
   ]
  },
  {
   "cell_type": "code",
   "execution_count": null,
   "id": "bb71480d",
   "metadata": {},
   "outputs": [],
   "source": [
    "IBMQ.load_account()\n",
    "job = execute(qc,Aer.get_backend('qasm_simulator'),shots=shots,optimization_level=3)\n",
    "#job = qk.execute( qc_circuit_1, realBackend )"
   ]
  },
  {
   "cell_type": "code",
   "execution_count": null,
   "id": "f68bf6c6",
   "metadata": {},
   "outputs": [],
   "source": [
    "\n",
    "print(f'Results with an average of {runs} runs and {shots} shots')\n",
    "print(\"---------------------------------------------------------------\")\n",
    "print(\"---------------------------------------------------------------\")\n",
    "for vector in vectors_array:\n",
    "    A = vector[0]\n",
    "    B = vector[1]\n",
    "    \n",
    "    iteration+=1\n",
    "    #print(\"Iteration\",iteration)\n",
    "    #print(\"Vectors:\")\n",
    "    #print(A)\n",
    "    #print(B)\n",
    "   \n",
    "    norm_A = 0 \n",
    "    norm_B = 0\n",
    "    Dist = 0\n",
    "    \n",
    "    # Compute the classical distance \n",
    "    for i in range(len(A)):\n",
    "        norm_A += A[i]**2\n",
    "        norm_B += B[i]**2\n",
    "        Dist += (A[i] - B[i]) ** 2\n",
    "    \n",
    "    Dist = np.sqrt(Dist)\n",
    "    \n",
    "    A_norm = np.sqrt(norm_A)\n",
    "    B_norm = np.sqrt(norm_B)\n",
    "    Z = round((A_norm)**2 + (B_norm)**2)\n",
    "    #print(Z)\n",
    "    \n",
    "    # create phi and psi state with the vector data\n",
    "    phi = [A_norm/np.sqrt(Z), -B_norm/np.sqrt(Z)]\n",
    "    psi = []\n",
    "    for i in range(len(A)):\n",
    "        psi.append(((A[i]/A_norm) / np.sqrt(2)))\n",
    "        psi.append(((B[i]/B_norm) / np.sqrt(2)))\n",
    "        \n",
    "    # Create circuit \n",
    "    q1 = QuantumRegister(1, name = 'q1')\n",
    "    q2 = QuantumRegister(4, name = 'q2')\n",
    "    c = ClassicalRegister(1, name = 'c')\n",
    "    qc = QuantumCircuit(q1,q2,c)\n",
    "\n",
    "    #States initialization\n",
    "    qc.initialize(phi, q2[0])\n",
    "    qc.initialize(psi, q2[1:4])\n",
    "    \n",
    "    # The swap test operator\n",
    "    qc.h(q1[0])\n",
    "    qc.cswap(q1[0], q2[0], q2[1])\n",
    "    qc.h(q1[0]) \n",
    "    qc.measure(q1,c)\n",
    "    \n",
    "    q_distance_list_for_runs = []\n",
    "    real_distance_list.append(Dist)\n",
    "    #Colocar cuando se executa la lista de circuitos\n",
    "    qc_list.append(qc)\n",
    "    "
   ]
  }
 ],
 "metadata": {
  "kernelspec": {
   "display_name": "Python 3 (ipykernel)",
   "language": "python",
   "name": "python3"
  },
  "language_info": {
   "codemirror_mode": {
    "name": "ipython",
    "version": 3
   },
   "file_extension": ".py",
   "mimetype": "text/x-python",
   "name": "python",
   "nbconvert_exporter": "python",
   "pygments_lexer": "ipython3",
   "version": "3.8.18"
  }
 },
 "nbformat": 4,
 "nbformat_minor": 5
}
